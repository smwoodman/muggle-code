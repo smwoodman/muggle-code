{
 "cells": [
  {
   "cell_type": "code",
   "execution_count": 1,
   "id": "214d6e8f-2ab6-43bc-90a2-bba6b0856c29",
   "metadata": {
    "tags": []
   },
   "outputs": [
    {
     "name": "stderr",
     "output_type": "stream",
     "text": [
      "Linking to ImageMagick 7.1.1.2\n",
      "Enabled features: cairo, fontconfig, freetype, fftw, rsvg, webp, x11\n",
      "Disabled features: ghostscript, heic, lcms, pango, raw\n",
      "\n",
      "\n",
      "Attaching package: ‘lubridate’\n",
      "\n",
      "\n",
      "The following objects are masked from ‘package:base’:\n",
      "\n",
      "    date, intersect, setdiff, union\n",
      "\n",
      "\n"
     ]
    }
   ],
   "source": [
    "library(magick)\n",
    "library(lubridate)"
   ]
  },
  {
   "cell_type": "code",
   "execution_count": 2,
   "id": "72eab5d6-fe43-4524-8d75-eb91761bd3f3",
   "metadata": {
    "tags": []
   },
   "outputs": [
    {
     "data": {
      "text/html": [
       "<style>\n",
       ".list-inline {list-style: none; margin:0; padding: 0}\n",
       ".list-inline>li {display: inline-block}\n",
       ".list-inline>li:not(:last-child)::after {content: \"\\00b7\"; padding: 0 .5ex}\n",
       "</style>\n",
       "<ol class=list-inline><li>'Build'</li><li>'Build-Day'</li><li>'Demo'</li><li>'HW'</li><li>'HW-del'</li><li>'HW-resized-40'</li><li>'HW-resized-52'</li><li>'HW-resized-60'</li></ol>\n"
      ],
      "text/latex": [
       "\\begin{enumerate*}\n",
       "\\item 'Build'\n",
       "\\item 'Build-Day'\n",
       "\\item 'Demo'\n",
       "\\item 'HW'\n",
       "\\item 'HW-del'\n",
       "\\item 'HW-resized-40'\n",
       "\\item 'HW-resized-52'\n",
       "\\item 'HW-resized-60'\n",
       "\\end{enumerate*}\n"
      ],
      "text/markdown": [
       "1. 'Build'\n",
       "2. 'Build-Day'\n",
       "3. 'Demo'\n",
       "4. 'HW'\n",
       "5. 'HW-del'\n",
       "6. 'HW-resized-40'\n",
       "7. 'HW-resized-52'\n",
       "8. 'HW-resized-60'\n",
       "\n",
       "\n"
      ],
      "text/plain": [
       "[1] \"Build\"         \"Build-Day\"     \"Demo\"          \"HW\"           \n",
       "[5] \"HW-del\"        \"HW-resized-40\" \"HW-resized-52\" \"HW-resized-60\""
      ]
     },
     "metadata": {},
     "output_type": "display_data"
    },
    {
     "name": "stdout",
     "output_type": "stream",
     "text": [
      "[1] \"Build: 5027\"\n",
      "[1] \"Build daytime: 2483\"\n",
      "[1] \"Demo: 3252\"\n",
      "[1] \"Cannon: HW-resized-52: 5102\"\n"
     ]
    }
   ],
   "source": [
    "path.reconyx <- \"Reconyx\"\n",
    "folder.cannon <- \"HW-resized-52\"\n",
    "list.files(path.reconyx)\n",
    "\n",
    "# Each have some number of reconyx folders\n",
    "path.build <- list.files(file.path(path.reconyx, \"Build\"), full.names = TRUE)\n",
    "path.build.day <- list.files(file.path(path.reconyx, \"Build-Day\"), full.names = TRUE)\n",
    "path.demo <- list.files(file.path(path.reconyx, \"Demo\"), full.names = TRUE)\n",
    "path.cannon.orig <- list.files(file.path(path.reconyx, \"HW\"), full.names = TRUE)\n",
    "path.cannon <- list.files(file.path(path.reconyx, folder.cannon), full.names = TRUE)\n",
    "\n",
    "print(paste(\"Build:\", length(list.files(path.build))))\n",
    "print(paste(\"Build daytime:\", length(list.files(path.build.day))))\n",
    "print(paste(\"Demo:\", length(list.files(path.demo))))\n",
    "print(paste(\"Cannon:\", paste0(folder.cannon, \":\"), length(list.files(path.cannon))))\n",
    "\n",
    "# # Note: can't filter files by time up here, because they don't keep their mtime when coming up into GCS\n",
    "# x <- list.files(path.build, full.names = TRUE)\n",
    "# x.info = file.info(list.files(path.build, full.names = TRUE))\n",
    "# build.keep <- x.info %>% \n",
    "#   mutate(mtime_hour = hour(mtime)) %>% \n",
    "#   filter(between(mtime_hour, 8, 19))\n",
    "# print(paste(\"Build daytime:\", length(list.files(path.build))))"
   ]
  },
  {
   "cell_type": "markdown",
   "id": "237cf7ba-0c35-4e08-a9ed-6b9d863c5cbe",
   "metadata": {},
   "source": [
    "Define the function that reads and joins images, and writes the joined images to a video file.\n",
    "\n",
    "This function uses video files because of https://docs.ropensci.org/magick/reference/video.html and https://github.com/ropensci/magick/issues/260"
   ]
  },
  {
   "cell_type": "code",
   "execution_count": 3,
   "id": "93651441-332e-412e-a4bd-304de6ad3ced",
   "metadata": {
    "tags": []
   },
   "outputs": [],
   "source": [
    "reconyx_animate <- function(path_imgs, file_out, fps = 20, tz = \"America/Los_Angeles\") {\n",
    "    stopifnot(require(lubridate))\n",
    "    # https://www.nagraj.net/notes/gifs-in-r/\n",
    "    imgs <- list.files(path_imgs, full.names = TRUE)\n",
    "    \n",
    "    # # Hacky system to take every other image to deal with space/size issues\n",
    "    # if (cannon) {\n",
    "    #     imgs <- imgs[c(TRUE, FALSE)]\n",
    "    #     message(paste(\"subset to \", length(imgs), images))\n",
    "    # }\n",
    "    \n",
    "    message(paste(\"reading\", as.character(lubridate::now(tz)), tz))\n",
    "    img_list <- lapply(imgs, image_read)\n",
    "    \n",
    "    ## join the images together\n",
    "    message(paste(\"joining\", as.character(lubridate::now(tz)), tz))\n",
    "    img_joined <- image_join(img_list)\n",
    "    \n",
    "    # # NOTE: could make a GIF here. Making video based on notes above\n",
    "    # img_joined <- image_join(img_list)\n",
    "    # image_write_gif(img_joined, path = file_out, delay = 1/fps)\n",
    "    \n",
    "    message(paste(\"writing mp4\", as.character(lubridate::now(tz)), tz))\n",
    "    image_write_video(img_joined, path = file_out, framerate = fps)\n",
    "    message(paste(\"done writing mp4\", as.character(lubridate::now(tz)), tz))\n",
    "}"
   ]
  },
  {
   "cell_type": "markdown",
   "id": "42b2422d-7698-4880-af64-ac83867493b2",
   "metadata": {},
   "source": [
    "Now run the function on the things"
   ]
  },
  {
   "cell_type": "code",
   "execution_count": null,
   "id": "037632ba-9d7d-4eb6-aad2-89e85e94e6e4",
   "metadata": {
    "tags": []
   },
   "outputs": [
    {
     "name": "stderr",
     "output_type": "stream",
     "text": [
      "reading 2024-03-23 07:53:58 America/Los_Angeles\n",
      "\n",
      "joining 2024-03-23 08:01:28 America/Los_Angeles\n",
      "\n",
      "writing mp4 2024-03-23 08:01:28 America/Los_Angeles\n",
      "\n"
     ]
    }
   ],
   "source": [
    "# reconyx_animate(path.cannon.orig, \"CS-202324-build-slr-test.mp4\", fps = 0.5)\n",
    "reconyx_animate(path.cannon, \"CS-202324-build-slr.mp4\", fps = 40)\n",
    "# reconyx_animate(path.build, \"CS-202324-build.mp4\", fps = 40)\n",
    "# reconyx_animate(path.build.day, \"CS-202324-build-day.mp4\", fps = 40)\n",
    "# reconyx_animate(path.demo, \"CS-202324-demo.mp4\", fps = 40)"
   ]
  }
 ],
 "metadata": {
  "environment": {
   "kernel": "conda-env-r-r",
   "name": "workbench-notebooks.m118",
   "type": "gcloud",
   "uri": "us-docker.pkg.dev/deeplearning-platform-release/gcr.io/workbench-notebooks:m118"
  },
  "kernelspec": {
   "display_name": "R (Local)",
   "language": "R",
   "name": "conda-env-r-r"
  },
  "language_info": {
   "codemirror_mode": "r",
   "file_extension": ".r",
   "mimetype": "text/x-r-source",
   "name": "R",
   "pygments_lexer": "r",
   "version": "4.2.3"
  }
 },
 "nbformat": 4,
 "nbformat_minor": 5
}
