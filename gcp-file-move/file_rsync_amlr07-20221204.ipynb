{
 "cells": [
  {
   "cell_type": "markdown",
   "id": "db53c055-66e2-46d3-9a53-1cd50436a1f5",
   "metadata": {},
   "source": [
    "# Rsync files in GCS"
   ]
  },
  {
   "cell_type": "markdown",
   "id": "5c32cd3a-2703-4d59-8679-86699d37f08e",
   "metadata": {},
   "source": [
    "Rsync files in GCS from bucket to bucket"
   ]
  },
  {
   "cell_type": "markdown",
   "id": "c4c8ac6f-8fb3-4920-aa81-e126829f7422",
   "metadata": {},
   "source": [
    "Import modules, inlcuding 'sourcing' py file with functions"
   ]
  },
  {
   "cell_type": "code",
   "execution_count": null,
   "id": "64d86634-a714-493d-ae8c-b66e0c1725b5",
   "metadata": {
    "tags": []
   },
   "outputs": [],
   "source": [
    "from google.cloud import storage\n",
    "from itertools import repeat\n",
    "import subprocess\n",
    "import pandas as pd\n",
    "import multiprocessing as mp\n",
    "\n",
    "%run -m file_move"
   ]
  },
  {
   "cell_type": "markdown",
   "id": "d83365d3-2538-44fb-aa35-decfc1a2c920",
   "metadata": {},
   "source": [
    "Set variable names, and generate list of files to rename"
   ]
  },
  {
   "cell_type": "code",
   "execution_count": null,
   "id": "3174b6b9-b336-4d38-86f2-97f407b538e9",
   "metadata": {
    "tags": []
   },
   "outputs": [],
   "source": [
    "# storage_client = storage.Client(project = \"ggn-nmfs-usamlr-dev-7b99\")\n",
    "bucket_source    = \"amlr-imagery-proc-dev\"\n",
    "file_prefix    = \"gliders/2022/amlr07-20221204/shadowgraph/images/Dir\"\n",
    "file_substr    = \"/regions/\"\n",
    "\n",
    "bucket_destination = \"amlr-gliders-imagery-proc-dev\""
   ]
  },
  {
   "cell_type": "code",
   "execution_count": null,
   "id": "723af22e-e4ab-4064-bde7-51cff4c8d75e",
   "metadata": {
    "tags": []
   },
   "outputs": [],
   "source": [
    "file_list_orig = list_blobs_with_prefix(\n",
    "    bucket_source, file_prefix, file_substr=file_substr)    "
   ]
  },
  {
   "cell_type": "code",
   "execution_count": null,
   "id": "1894f196-c60b-4268-8bdf-361ab1167d7c",
   "metadata": {
    "tags": []
   },
   "outputs": [],
   "source": [
    "print(f\"there are {len(file_list_orig)} files with {file_substr} \" +\n",
    "      f\"with the prefix {bucket_source}/{file_prefix}\")\n",
    "print(\"First 10 files:\") \n",
    "for i in file_list_orig[0:9]:\n",
    "    print(i)"
   ]
  },
  {
   "cell_type": "code",
   "execution_count": null,
   "id": "700fc3d7-0d9e-47d3-a167-c3045c0262f9",
   "metadata": {
    "tags": []
   },
   "outputs": [],
   "source": [
    "# lengths_list = (lambda x:[len(i) for i in x])(file_list_orig)\n",
    "# pd.Series(lengths_list).value_counts()"
   ]
  },
  {
   "cell_type": "markdown",
   "id": "ca098c3c-e59c-45f9-8ec7-48682ab711fd",
   "metadata": {},
   "source": [
    "Create new file list"
   ]
  },
  {
   "cell_type": "code",
   "execution_count": null,
   "id": "19386faf-0d40-405d-bbbf-e73a6338d01c",
   "metadata": {
    "tags": []
   },
   "outputs": [],
   "source": [
    "# dir_list = [i[:-1] for i in file_list_orig if len(i) <= 70]\n",
    "dir_list = [i for i in file_list_orig if len(i) <= 70]\n",
    "# print(f\"There were {len(file_list_orig) - len(file_list)} files removed, from original {len(file_list_orig)}. \")\n",
    "# print(f\"There are {len(file_list)} files remaining\")\n",
    "print(f\"There are {len(dir_list)} directory paths\")"
   ]
  },
  {
   "cell_type": "code",
   "execution_count": null,
   "id": "fd1c053e-27fe-4cb6-b901-e7531b240a5e",
   "metadata": {
    "tags": []
   },
   "outputs": [],
   "source": [
    "rsync_list_source = [f\"gs://{bucket_source}/{i[:-1]}\" for i in dir_list]\n",
    "\n",
    "for i in rsync_list_source:\n",
    "    print(i)"
   ]
  },
  {
   "cell_type": "markdown",
   "id": "b47d8129-029c-4b11-9ba8-18376dd37f34",
   "metadata": {},
   "source": [
    "## Create rsync arguments and run commands"
   ]
  },
  {
   "cell_type": "markdown",
   "id": "073dcb70-d130-45b3-8b3a-602f86c1ee75",
   "metadata": {},
   "source": [
    "Run all in single for loop, because multithreading crashes"
   ]
  },
  {
   "cell_type": "code",
   "execution_count": null,
   "id": "bc9b1f31-abd5-4bb4-aaaf-1bc7c8788161",
   "metadata": {
    "tags": []
   },
   "outputs": [],
   "source": [
    "# rsync_list_destination = []\n",
    "# for i in dir_list:\n",
    "#     i_orig = i\n",
    "#     i = i.replace(\"gliders/2022\", \"FREEBYRD/2023\")\n",
    "#     i = i.replace(\"/shadowgraph/\", \"/\")\n",
    "#     i = i.replace(\"/regions/\", \"\")\n",
    "#     i = i.replace(\"/images/\", \"/regions/\")\n",
    "#     rsync_list_destination.append(build_dest(i, bucket_destination))\n",
    "\n",
    "# for j in rsync_list_destination:\n",
    "#     print(j)"
   ]
  },
  {
   "cell_type": "code",
   "execution_count": null,
   "id": "f8bee217-f73d-4528-a5a6-b6ac873aff8d",
   "metadata": {
    "tags": []
   },
   "outputs": [],
   "source": [
    "for src in rsync_list_source:\n",
    "    # print(src)\n",
    "    rsync_out = rsync_build_run(src, bucket_source, bucket_destination)\n",
    "    print(rsync_out)\n",
    "    # run_list = [\"gcloud\", \"storage\", \"rsync\", \"-r\", src, dest]\n",
    "    # run(run_list)\n",
    "    # run_out = run(run_list, capture_output=True)\n",
    "    # if run_out.returncode != 0:\n",
    "    #     print(f'Error')\n",
    "    #     print(f'ARGS:\\n{run_out.args}')\n",
    "    #     print(f'STDERR:\\n{run_out.stderr}')\n",
    "    #     return\n",
    "    # else:\n",
    "    #     print(f\"Successfully rsynced {src}))"
   ]
  },
  {
   "cell_type": "markdown",
   "id": "4071d9ee-6681-4345-a01c-5ac5a5e1d34b",
   "metadata": {},
   "source": [
    "### Multithreading\n",
    "Multithreading crashes. Lol. Probably because `gcloud storage` is also trying to do multithreading things?"
   ]
  },
  {
   "cell_type": "markdown",
   "id": "a828aa8c-d294-49f5-9b0d-30e53a8ae72f",
   "metadata": {},
   "source": [
    "To take advantage of multiple cores anmd make this functionality robust to files already being there, it made sense to generate 'gcloud storage rsync' commands, and run those via multiprocessing.\n",
    "\n",
    "NOTE: the function is not totally generalize, i.e. replacement strings will need to be updated for different operations."
   ]
  },
  {
   "cell_type": "code",
   "execution_count": null,
   "id": "07749360-0f02-4791-a581-97408132f128",
   "metadata": {
    "tags": []
   },
   "outputs": [],
   "source": [
    "# # Multithreading crashes. Lol\n",
    "# numcores = mp.cpu_count()\n",
    "# print(f\"Running with {numcores} cores\")\n",
    "\n",
    "# with mp.Pool(numcores) as pool:\n",
    "#     out_list = pool.starmap(\n",
    "#         rsync_build_run, \n",
    "#         zip(rsync_list_source, repeat(bucket_source), \n",
    "#             repeat(bucket_destination))\n",
    "#     )\n",
    "\n",
    "# for i in out_list:\n",
    "#     print(i)"
   ]
  },
  {
   "cell_type": "markdown",
   "id": "8c3abb4b-257a-4393-9b47-2be3900bd62a",
   "metadata": {},
   "source": [
    "### Sanity checks"
   ]
  },
  {
   "cell_type": "code",
   "execution_count": null,
   "id": "fd231f28-654b-44fe-80fa-013b8579031b",
   "metadata": {
    "tags": []
   },
   "outputs": [],
   "source": [
    "prefix_dest = \"FREEBYRD/2023/amlr07-20221204/regions/Dir\"\n",
    "file_list_dest = list_blobs_with_prefix(bucket_destination, prefix_dest)    \n",
    "print(f\"there are {len(file_list_dest)} files \" +\n",
    "      f\"with the prefix {bucket_destination}/{prefix_dest}\")\n",
    "\n",
    "lengths_list = (lambda x:[len(i) for i in x])(file_list_dest)\n",
    "pd.Series(lengths_list).value_counts()"
   ]
  }
 ],
 "metadata": {
  "environment": {
   "kernel": "conda-env-py-gcs-py-gcs",
   "name": "workbench-notebooks.m118",
   "type": "gcloud",
   "uri": "us-docker.pkg.dev/deeplearning-platform-release/gcr.io/workbench-notebooks:m118"
  },
  "kernelspec": {
   "display_name": "py-gcs (Local)",
   "language": "python",
   "name": "conda-env-py-gcs-py-gcs"
  },
  "language_info": {
   "codemirror_mode": {
    "name": "ipython",
    "version": 3
   },
   "file_extension": ".py",
   "mimetype": "text/x-python",
   "name": "python",
   "nbconvert_exporter": "python",
   "pygments_lexer": "ipython3",
   "version": "3.12.2"
  }
 },
 "nbformat": 4,
 "nbformat_minor": 5
}
