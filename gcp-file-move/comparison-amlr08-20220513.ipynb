{
 "cells": [
  {
   "cell_type": "markdown",
   "id": "c22cb05d-021e-4a90-8deb-2d1dd8d0f2ae",
   "metadata": {},
   "source": [
    "# Comparisons"
   ]
  },
  {
   "cell_type": "markdown",
   "id": "be319623-4550-4db6-bab6-27066b2fe612",
   "metadata": {
    "tags": []
   },
   "source": [
    "Sanity checks to make sure flatfielding image copying/moving does its stuff"
   ]
  },
  {
   "cell_type": "code",
   "execution_count": 1,
   "id": "9e5abd7f-85cd-42b0-8a36-df8e4477ac41",
   "metadata": {
    "tags": []
   },
   "outputs": [],
   "source": [
    "from google.cloud import storage\n",
    "%run -m file_move"
   ]
  },
  {
   "cell_type": "code",
   "execution_count": 2,
   "id": "7f6c305c-ff0e-4dfe-82b2-a39172adad13",
   "metadata": {
    "tags": []
   },
   "outputs": [],
   "source": [
    "storage_client = storage.Client(project = \"ggn-nmfs-usamlr-dev-7b99\")\n",
    "source_bucket_name    = \"amlr-imagery-proc-dev\"\n",
    "destination_bucket_name = \"amlr-gliders-imagery-proc-dev\"\n",
    "\n",
    "source_bucket = storage_client.bucket(source_bucket_name)\n",
    "destination_bucket = storage_client.bucket(destination_bucket_name)\n",
    "\n",
    "file_substr    = \"/regions/\"\n",
    "# file_substr    = \"-ffPCG\"\n",
    "# file_substr    = \"-imgff\"\n",
    "# file_substr    = \"jpgorig-regions\"\n",
    "\n"
   ]
  },
  {
   "cell_type": "markdown",
   "id": "a6dfc126-3b0c-46e7-9bf7-b11a0724ea8b",
   "metadata": {},
   "source": [
    "### source bucket"
   ]
  },
  {
   "cell_type": "code",
   "execution_count": 3,
   "id": "ea4b6bdb-512e-4834-a6b5-38421fed51fb",
   "metadata": {
    "tags": []
   },
   "outputs": [
    {
     "name": "stdout",
     "output_type": "stream",
     "text": [
      "------------------------------------------------------\n",
      "prefix:gliders/2022/amlr08-20220513/shadowgraph/images/Dir000\n",
      "substring: /regions/\n",
      "213228\n",
      "------------------------------------------------------\n",
      "prefix:gliders/2022/amlr08-20220513/shadowgraph/images/Dir001\n",
      "substring: /regions/\n",
      "176119\n",
      "------------------------------------------------------\n",
      "prefix:gliders/2022/amlr08-20220513/shadowgraph/images/Dir002\n",
      "substring: /regions/\n",
      "102291\n",
      "------------------------------------------------------\n",
      "prefix:gliders/2022/amlr08-20220513/shadowgraph/images/Dir003\n",
      "substring: /regions/\n",
      "130160\n",
      "------------------------------------------------------\n",
      "prefix:gliders/2022/amlr08-20220513/shadowgraph/images/Dir004\n",
      "substring: /regions/\n",
      "128466\n",
      "------------------------------------------------------\n",
      "prefix:gliders/2022/amlr08-20220513/shadowgraph/images/Dir005\n",
      "substring: /regions/\n",
      "0\n",
      "------------------------------------------------------\n",
      "prefix:gliders/2022/amlr08-20220513/shadowgraph/images/Dir005\n",
      "substring: /regions/\n",
      "0\n"
     ]
    }
   ],
   "source": [
    "source_prefix = f\"gliders/2022/amlr08-20220513/shadowgraph/images\"\n",
    "source_file_prefix_list = [\n",
    "    f\"{source_prefix}/Dir000\", \n",
    "    f\"{source_prefix}/Dir001\", \n",
    "    f\"{source_prefix}/Dir002\", \n",
    "    f\"{source_prefix}/Dir003\", \n",
    "    f\"{source_prefix}/Dir004\", \n",
    "    f\"{source_prefix}/Dir005\", \n",
    "    f\"{source_prefix}/Dir006\", \n",
    "]\n",
    "len_list = []\n",
    "for file_prefix in source_file_prefix_list:    \n",
    "    print(\"------------------------------------------------------\")\n",
    "    print(f\"prefix:{file_prefix}\\nsubstring: {file_substr}\")\n",
    "    \n",
    "    file_list_source = list_blobs_with_prefix(\n",
    "        source_bucket_name, file_prefix, file_substr=file_substr)   \n",
    "    \n",
    "    print(f\"number of files: {len(file_list_source)}\")\n",
    "    len_list.append(len(file_list_source))"
   ]
  },
  {
   "cell_type": "markdown",
   "id": "a924350f-e9b2-44ab-af33-69c2c54a4595",
   "metadata": {},
   "source": [
    "### destination bucket"
   ]
  },
  {
   "cell_type": "code",
   "execution_count": 6,
   "id": "df5a08b3-ea62-46fc-bb90-01091abc29ed",
   "metadata": {
    "tags": []
   },
   "outputs": [
    {
     "name": "stdout",
     "output_type": "stream",
     "text": [
      "------------------------------------------------------\n",
      "prefix:SANDIEGO/2022/amlr08-20220513/regions/Dir000\n",
      "substring: /regions/\n",
      "number of files: 213218\n",
      "------------------------------------------------------\n",
      "prefix:SANDIEGO/2022/amlr08-20220513/regions/Dir001\n",
      "substring: /regions/\n",
      "number of files: 176109\n",
      "------------------------------------------------------\n",
      "prefix:SANDIEGO/2022/amlr08-20220513/regions/Dir002\n",
      "substring: /regions/\n",
      "number of files: 102281\n",
      "------------------------------------------------------\n",
      "prefix:SANDIEGO/2022/amlr08-20220513/regions/Dir003\n",
      "substring: /regions/\n",
      "number of files: 130150\n",
      "------------------------------------------------------\n",
      "prefix:SANDIEGO/2022/amlr08-20220513/regions/Dir004\n",
      "substring: /regions/\n",
      "number of files: 128458\n",
      "------------------------------------------------------\n",
      "prefix:SANDIEGO/2022/amlr08-20220513/regions/Dir005\n",
      "substring: /regions/\n",
      "number of files: 0\n",
      "------------------------------------------------------\n",
      "prefix:SANDIEGO/2022/amlr08-20220513/regions/Dir006\n",
      "substring: /regions/\n",
      "number of files: 0\n"
     ]
    }
   ],
   "source": [
    "destination_prefix = f\"SANDIEGO/2022/amlr08-20220513/regions\"\n",
    "# destination_prefix = f\"SANDIEGO/2022/amlr08-20220513/images{file_substr}\"\n",
    "destination_file_prefix_list = [\n",
    "    f\"{destination_prefix}/Dir000\", \n",
    "    f\"{destination_prefix}/Dir001\", \n",
    "    f\"{destination_prefix}/Dir002\", \n",
    "    f\"{destination_prefix}/Dir003\",\n",
    "    f\"{destination_prefix}/Dir004\",\n",
    "    f\"{destination_prefix}/Dir005\",\n",
    "    f\"{destination_prefix}/Dir006\"\n",
    "]\n",
    "destination_len_list = []\n",
    "for file_prefix in destination_file_prefix_list:    \n",
    "    print(\"------------------------------------------------------\")\n",
    "    print(f\"prefix:{file_prefix}\\nsubstring: {file_substr}\")\n",
    "    \n",
    "    destination_file_list = list_blobs_with_prefix(\n",
    "        destination_bucket_name, file_prefix, file_substr=file_substr)  \n",
    "    \n",
    "    print(f\"number of files: {len(destination_file_list)}\")\n",
    "    destination_len_list.append(len(destination_file_list))"
   ]
  }
 ],
 "metadata": {
  "environment": {
   "kernel": "conda-root-py",
   "name": "workbench-notebooks.m119",
   "type": "gcloud",
   "uri": "us-docker.pkg.dev/deeplearning-platform-release/gcr.io/workbench-notebooks:m119"
  },
  "kernelspec": {
   "display_name": "Python 3 (ipykernel) (Local)",
   "language": "python",
   "name": "conda-root-py"
  },
  "language_info": {
   "codemirror_mode": {
    "name": "ipython",
    "version": 3
   },
   "file_extension": ".py",
   "mimetype": "text/x-python",
   "name": "python",
   "nbconvert_exporter": "python",
   "pygments_lexer": "ipython3",
   "version": "3.10.14"
  }
 },
 "nbformat": 4,
 "nbformat_minor": 5
}
