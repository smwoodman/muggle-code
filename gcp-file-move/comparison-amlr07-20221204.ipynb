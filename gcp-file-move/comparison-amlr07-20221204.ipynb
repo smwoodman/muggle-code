{
 "cells": [
  {
   "cell_type": "markdown",
   "id": "c22cb05d-021e-4a90-8deb-2d1dd8d0f2ae",
   "metadata": {},
   "source": [
    "# Comparisons"
   ]
  },
  {
   "cell_type": "markdown",
   "id": "be319623-4550-4db6-bab6-27066b2fe612",
   "metadata": {
    "tags": []
   },
   "source": [
    "Sanity checks to make sure flatfielding image copying/moving does its stuff"
   ]
  },
  {
   "cell_type": "code",
   "execution_count": 1,
   "id": "9e5abd7f-85cd-42b0-8a36-df8e4477ac41",
   "metadata": {
    "tags": []
   },
   "outputs": [],
   "source": [
    "from google.cloud import storage\n",
    "%run -m file_move"
   ]
  },
  {
   "cell_type": "code",
   "execution_count": 2,
   "id": "7f6c305c-ff0e-4dfe-82b2-a39172adad13",
   "metadata": {
    "tags": []
   },
   "outputs": [],
   "source": [
    "storage_client = storage.Client(project = \"ggn-nmfs-usamlr-dev-7b99\")\n",
    "source_bucket_name    = \"amlr-imagery-proc-dev\"\n",
    "destination_bucket_name = \"amlr-gliders-imagery-proc-dev\"\n",
    "\n",
    "source_bucket = storage_client.bucket(source_bucket_name)\n",
    "destination_bucket = storage_client.bucket(destination_bucket_name)\n",
    "\n",
    "# file_substr    = \"/regions/\"\n",
    "file_substr    = \"-ffPCG\"\n",
    "# file_substr    = \"-imgff\"\n",
    "# file_substr    = \".jpgorig-regions\"\n",
    "\n"
   ]
  },
  {
   "cell_type": "markdown",
   "id": "a6dfc126-3b0c-46e7-9bf7-b11a0724ea8b",
   "metadata": {},
   "source": [
    "In original source bucket"
   ]
  },
  {
   "cell_type": "code",
   "execution_count": 3,
   "id": "ea4b6bdb-512e-4834-a6b5-38421fed51fb",
   "metadata": {
    "tags": []
   },
   "outputs": [
    {
     "name": "stdout",
     "output_type": "stream",
     "text": [
      "------------------------------------------------------\n",
      "gliders/2022/amlr08-20220513/shadowgraph/images/Dir00\n",
      "750264\n"
     ]
    }
   ],
   "source": [
    "source_prefix = f\"gliders/2022/amlr07-20221204/shadowgraph/images\"\n",
    "source_file_prefix_list = [\n",
    "    f\"{source_prefix}/Dir00\", \n",
    "    # f\"{source_prefix}/Dir01\", \n",
    "    # f\"{source_prefix}/Dir02\", \n",
    "    # f\"{source_prefix}/Dir03\", \n",
    "]\n",
    "len_list = []\n",
    "for file_prefix in source_file_prefix_list:    \n",
    "    print(\"------------------------------------------------------\")\n",
    "    print(file_prefix)\n",
    "    \n",
    "    file_list_source = list_blobs_with_prefix(\n",
    "        source_bucket_name, file_prefix, file_substr=file_substr)   \n",
    "    \n",
    "    print(len(file_list_source))\n",
    "    len_list.append(len(file_list_source))"
   ]
  },
  {
   "cell_type": "markdown",
   "id": "a924350f-e9b2-44ab-af33-69c2c54a4595",
   "metadata": {},
   "source": [
    "In destination bucket"
   ]
  },
  {
   "cell_type": "code",
   "execution_count": 7,
   "id": "df5a08b3-ea62-46fc-bb90-01091abc29ed",
   "metadata": {
    "tags": []
   },
   "outputs": [
    {
     "name": "stdout",
     "output_type": "stream",
     "text": [
      "------------------------------------------------------\n",
      "SANDIEGO/2022/amlr08-20220513/regions/Dir00\n",
      "683264\n"
     ]
    }
   ],
   "source": [
    "# destination_prefix = f\"FREEBYRD/2023/amlr07-20221204/{file_substr}\" #for jpgout\n",
    "destination_prefix = f\"FREEBYRD/2023/amlr07-20221204/images{file_substr}\"\n",
    "destination_file_prefix_list = [\n",
    "    f\"{destination_prefix}/Dir00\", \n",
    "    # f\"{destination_prefix}/Dir01\", \n",
    "    # f\"{destination_prefix}/Dir02\", \n",
    "    # f\"{destination_prefix}/Dir03\"\n",
    "]\n",
    "destination_len_list = []\n",
    "for file_prefix in destination_file_prefix_list:    \n",
    "    print(\"------------------------------------------------------\")\n",
    "    print(file_prefix)\n",
    "    \n",
    "    destination_file_list = list_blobs_with_prefix(\n",
    "        destination_bucket_name, file_prefix, file_substr=file_substr)  \n",
    "    \n",
    "    print(len(destination_file_list))\n",
    "    len_list.append(len(destination_len_list))"
   ]
  }
 ],
 "metadata": {
  "environment": {
   "kernel": "conda-root-py",
   "name": "workbench-notebooks.m119",
   "type": "gcloud",
   "uri": "us-docker.pkg.dev/deeplearning-platform-release/gcr.io/workbench-notebooks:m119"
  },
  "kernelspec": {
   "display_name": "Python 3 (ipykernel) (Local)",
   "language": "python",
   "name": "conda-root-py"
  },
  "language_info": {
   "codemirror_mode": {
    "name": "ipython",
    "version": 3
   },
   "file_extension": ".py",
   "mimetype": "text/x-python",
   "name": "python",
   "nbconvert_exporter": "python",
   "pygments_lexer": "ipython3",
   "version": "3.10.14"
  }
 },
 "nbformat": 4,
 "nbformat_minor": 5
}
