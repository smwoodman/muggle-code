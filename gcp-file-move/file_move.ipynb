{
 "cells": [
  {
   "cell_type": "markdown",
   "id": "db53c055-66e2-46d3-9a53-1cd50436a1f5",
   "metadata": {},
   "source": [
    "# Rename files in GCS"
   ]
  },
  {
   "cell_type": "markdown",
   "id": "5c32cd3a-2703-4d59-8679-86699d37f08e",
   "metadata": {},
   "source": [
    "Rename files in GCS buckets by copying and deleting the blobs"
   ]
  },
  {
   "cell_type": "markdown",
   "id": "c4c8ac6f-8fb3-4920-aa81-e126829f7422",
   "metadata": {},
   "source": [
    "Import modules, inlcuding 'sourcing' py file with functions"
   ]
  },
  {
   "cell_type": "code",
   "execution_count": 1,
   "id": "64d86634-a714-493d-ae8c-b66e0c1725b5",
   "metadata": {
    "tags": []
   },
   "outputs": [],
   "source": [
    "from google.cloud import storage\n",
    "import pandas as pd\n",
    "\n",
    "%run -m file_move"
   ]
  },
  {
   "cell_type": "markdown",
   "id": "d83365d3-2538-44fb-aa35-decfc1a2c920",
   "metadata": {},
   "source": [
    "Set variable names, and generate list of files to rename"
   ]
  },
  {
   "cell_type": "code",
   "execution_count": 2,
   "id": "3174b6b9-b336-4d38-86f2-97f407b538e9",
   "metadata": {
    "tags": []
   },
   "outputs": [],
   "source": [
    "storage_client = storage.Client(project = \"ggn-nmfs-usamlr-dev-7b99\")\n",
    "bucket_name    = \"amlr-imagery-proc-dev\"\n",
    "file_prefix    = \"gliders/2022/amlr07-20221204/shadowgraph/images/Dir\"\n",
    "file_substr    = \"/regions/\"\n",
    "\n",
    "bucket_name_new = \"amlr-gliders-imagery-proc-dev\""
   ]
  },
  {
   "cell_type": "code",
   "execution_count": 4,
   "id": "723af22e-e4ab-4064-bde7-51cff4c8d75e",
   "metadata": {
    "tags": []
   },
   "outputs": [],
   "source": [
    "file_list_orig = list_blobs_with_prefix(bucket_name, file_prefix, file_substr=file_substr)    "
   ]
  },
  {
   "cell_type": "code",
   "execution_count": 5,
   "id": "1894f196-c60b-4268-8bdf-361ab1167d7c",
   "metadata": {
    "tags": []
   },
   "outputs": [
    {
     "name": "stdout",
     "output_type": "stream",
     "text": [
      "there are 1406579 files with /regions/ with the prefix amlr-imagery-proc-dev/gliders/2022/amlr07-20221204/shadowgraph/images/Dir\n",
      "files:\n",
      "gliders/2022/amlr07-20221204/shadowgraph/images/Dir0000/regions/\n",
      "gliders/2022/amlr07-20221204/shadowgraph/images/Dir0000/regions/sg004 20221204-220611-001.jpg-out0.jpg\n",
      "gliders/2022/amlr07-20221204/shadowgraph/images/Dir0000/regions/sg004 20221204-220611-001.jpg-out1.jpg\n",
      "gliders/2022/amlr07-20221204/shadowgraph/images/Dir0000/regions/sg004 20221204-220611-001.jpg-out10.jpg\n",
      "gliders/2022/amlr07-20221204/shadowgraph/images/Dir0000/regions/sg004 20221204-220611-001.jpg-out11.jpg\n",
      "gliders/2022/amlr07-20221204/shadowgraph/images/Dir0000/regions/sg004 20221204-220611-001.jpg-out12.jpg\n",
      "gliders/2022/amlr07-20221204/shadowgraph/images/Dir0000/regions/sg004 20221204-220611-001.jpg-out13.jpg\n",
      "gliders/2022/amlr07-20221204/shadowgraph/images/Dir0000/regions/sg004 20221204-220611-001.jpg-out14.jpg\n",
      "gliders/2022/amlr07-20221204/shadowgraph/images/Dir0000/regions/sg004 20221204-220611-001.jpg-out15.jpg\n"
     ]
    }
   ],
   "source": [
    "print(f\"there are {len(file_list_orig)} files with {file_substr} \" +\n",
    "      f\"with the prefix {bucket_name}/{file_prefix}\")\n",
    "print(\"files:\") \n",
    "for i in file_list_orig[0:9]:\n",
    "    print(i)"
   ]
  },
  {
   "cell_type": "code",
   "execution_count": null,
   "id": "700fc3d7-0d9e-47d3-a167-c3045c0262f9",
   "metadata": {
    "tags": []
   },
   "outputs": [],
   "source": [
    "# lengths_list = (lambda x:[len(i) for i in x])(file_list_orig)\n",
    "# pd.Series(lengths_list).value_counts()"
   ]
  },
  {
   "cell_type": "markdown",
   "id": "ca098c3c-e59c-45f9-8ec7-48682ab711fd",
   "metadata": {},
   "source": [
    "Create new file list"
   ]
  },
  {
   "cell_type": "code",
   "execution_count": 6,
   "id": "19386faf-0d40-405d-bbbf-e73a6338d01c",
   "metadata": {
    "tags": []
   },
   "outputs": [
    {
     "name": "stdout",
     "output_type": "stream",
     "text": [
      "There were 313 files removed, from original 1406579. \n",
      "There are 1406266 files remaining\n"
     ]
    }
   ],
   "source": [
    "file_list = [i for i in file_list_orig if len(i) > 70]\n",
    "print(f\"There were {len(file_list_orig) - len(file_list)} files removed, from original {len(file_list_orig)}. \")\n",
    "print(f\"There are {len(file_list)} files remaining\")"
   ]
  },
  {
   "cell_type": "code",
   "execution_count": null,
   "id": "b2fae3f0-2de1-4a67-a28a-9f4413684dfb",
   "metadata": {
    "tags": []
   },
   "outputs": [],
   "source": [
    "# # Testing\n",
    "# for i in file_list[0:3]:\n",
    "#     i = i.replace(\"gliders/2022\", \"FREEBYRD/2023\")\n",
    "#     i = i.replace(\"/shadowgraph/\", \"/\")\n",
    "#     i = i.replace(\"/regions/\", \"/\")\n",
    "#     i = i.replace(\"/images/\", \"/regions/\")\n",
    "#     print(i)"
   ]
  },
  {
   "cell_type": "code",
   "execution_count": null,
   "id": "ff6acbf3-c5e5-4d02-ac7a-91036d315cfa",
   "metadata": {},
   "outputs": [],
   "source": [
    "# file_list_new = []\n",
    "# for i in file_list[0:3]:\n",
    "#     i = i.replace(\"gliders/2022\", \"FREEBYRD/2023\")\n",
    "#     i = i.replace(\"/shadowgraph/\", \"/\")\n",
    "#     i = i.replace(\"/regions/\", \"/\")\n",
    "#     i = i.replace(\"/images/\", \"/regions/\")\n",
    "#     file_list_new.append(\n",
    "#         (bucket_name, file_old, file_old.replace(\"/images/\", f\"/images{file_substr}/\").replace(\"/output/\", \"/\"))\n",
    "#     )"
   ]
  },
  {
   "cell_type": "markdown",
   "id": "ca0c6fbc-63ac-4dcf-a81a-173e3e0c3359",
   "metadata": {},
   "source": [
    "## Copy files to new bucket"
   ]
  },
  {
   "cell_type": "code",
   "execution_count": null,
   "id": "dfcb420b-61c3-43a9-9873-bde9962b7027",
   "metadata": {
    "tags": []
   },
   "outputs": [
    {
     "name": "stdout",
     "output_type": "stream",
     "text": [
      "CPU times: user 3 µs, sys: 1e+03 ns, total: 4 µs\n",
      "Wall time: 7.39 µs\n"
     ]
    },
    {
     "ename": "ServiceUnavailable",
     "evalue": "503 POST https://storage.googleapis.com/storage/v1/b/amlr-imagery-proc-dev/o/gliders%2F2022%2Famlr07-20221204%2Fshadowgraph%2Fimages%2FDir0075%2Fregions%2Fsg004%2020221206-184619-017.jpg-out20.jpg/copyTo/b/amlr-gliders-imagery-proc-dev/o/FREEBYRD%2F2023%2Famlr07-20221204%2Fregions%2FDir0075%2Fsg004%2020221206-184619-017.jpg-out20.jpg?prettyPrint=false: We encountered an internal error. Please try again.",
     "output_type": "error",
     "traceback": [
      "\u001b[0;31m---------------------------------------------------------------------------\u001b[0m",
      "\u001b[0;31mServiceUnavailable\u001b[0m                        Traceback (most recent call last)",
      "Cell \u001b[0;32mIn[7], line 9\u001b[0m\n\u001b[1;32m      7\u001b[0m i \u001b[38;5;241m=\u001b[39m i\u001b[38;5;241m.\u001b[39mreplace(\u001b[38;5;124m\"\u001b[39m\u001b[38;5;124m/images/\u001b[39m\u001b[38;5;124m\"\u001b[39m, \u001b[38;5;124m\"\u001b[39m\u001b[38;5;124m/regions/\u001b[39m\u001b[38;5;124m\"\u001b[39m)\n\u001b[1;32m      8\u001b[0m \u001b[38;5;66;03m# print(f\"Copying {bucket_name}/{i_orig} to {bucket_name_new}/{i}\")\u001b[39;00m\n\u001b[0;32m----> 9\u001b[0m \u001b[43mcopy_blob\u001b[49m\u001b[43m(\u001b[49m\u001b[43mstorage_client\u001b[49m\u001b[43m,\u001b[49m\u001b[43m \u001b[49m\u001b[43mbucket_name\u001b[49m\u001b[43m,\u001b[49m\u001b[43m \u001b[49m\u001b[43mi_orig\u001b[49m\u001b[43m,\u001b[49m\u001b[43m \u001b[49m\u001b[43mbucket_name_new\u001b[49m\u001b[43m,\u001b[49m\u001b[43m \u001b[49m\u001b[43mi\u001b[49m\u001b[43m)\u001b[49m\n",
      "File \u001b[0;32m~/file_move.py:123\u001b[0m, in \u001b[0;36mcopy_blob\u001b[0;34m(storage_client, bucket_name, blob_name, destination_bucket_name, destination_blob_name)\u001b[0m\n\u001b[1;32m    114\u001b[0m \u001b[38;5;66;03m# Optional: set a generation-match precondition to avoid potential race conditions\u001b[39;00m\n\u001b[1;32m    115\u001b[0m \u001b[38;5;66;03m# and data corruptions. The request to copy is aborted if the object's\u001b[39;00m\n\u001b[1;32m    116\u001b[0m \u001b[38;5;66;03m# generation number does not match your precondition. For a destination\u001b[39;00m\n\u001b[0;32m   (...)\u001b[0m\n\u001b[1;32m    119\u001b[0m \u001b[38;5;66;03m# generation-match precondition using its generation number.\u001b[39;00m\n\u001b[1;32m    120\u001b[0m \u001b[38;5;66;03m# There is also an `if_source_generation_match` parameter, which is not used in this example.\u001b[39;00m\n\u001b[1;32m    121\u001b[0m destination_generation_match_precondition \u001b[38;5;241m=\u001b[39m \u001b[38;5;241m0\u001b[39m\n\u001b[0;32m--> 123\u001b[0m blob_copy \u001b[38;5;241m=\u001b[39m \u001b[43msource_bucket\u001b[49m\u001b[38;5;241;43m.\u001b[39;49m\u001b[43mcopy_blob\u001b[49m\u001b[43m(\u001b[49m\n\u001b[1;32m    124\u001b[0m \u001b[43m    \u001b[49m\u001b[43msource_blob\u001b[49m\u001b[43m,\u001b[49m\u001b[43m \u001b[49m\u001b[43mdestination_bucket\u001b[49m\u001b[43m,\u001b[49m\u001b[43m \u001b[49m\u001b[43mdestination_blob_name\u001b[49m\n\u001b[1;32m    125\u001b[0m \u001b[43m    \u001b[49m\u001b[38;5;66;43;03m#if_generation_match=destination_generation_match_precondition,\u001b[39;49;00m\n\u001b[1;32m    126\u001b[0m \u001b[43m\u001b[49m\u001b[43m)\u001b[49m\n",
      "File \u001b[0;32m/opt/conda/envs/py-gcs/lib/python3.12/site-packages/google/cloud/storage/bucket.py:1910\u001b[0m, in \u001b[0;36mBucket.copy_blob\u001b[0;34m(self, blob, destination_bucket, new_name, client, preserve_acl, source_generation, if_generation_match, if_generation_not_match, if_metageneration_match, if_metageneration_not_match, if_source_generation_match, if_source_generation_not_match, if_source_metageneration_match, if_source_metageneration_not_match, timeout, retry)\u001b[0m\n\u001b[1;32m   1908\u001b[0m new_blob \u001b[38;5;241m=\u001b[39m Blob(bucket\u001b[38;5;241m=\u001b[39mdestination_bucket, name\u001b[38;5;241m=\u001b[39mnew_name)\n\u001b[1;32m   1909\u001b[0m api_path \u001b[38;5;241m=\u001b[39m blob\u001b[38;5;241m.\u001b[39mpath \u001b[38;5;241m+\u001b[39m \u001b[38;5;124m\"\u001b[39m\u001b[38;5;124m/copyTo\u001b[39m\u001b[38;5;124m\"\u001b[39m \u001b[38;5;241m+\u001b[39m new_blob\u001b[38;5;241m.\u001b[39mpath\n\u001b[0;32m-> 1910\u001b[0m copy_result \u001b[38;5;241m=\u001b[39m \u001b[43mclient\u001b[49m\u001b[38;5;241;43m.\u001b[39;49m\u001b[43m_post_resource\u001b[49m\u001b[43m(\u001b[49m\n\u001b[1;32m   1911\u001b[0m \u001b[43m    \u001b[49m\u001b[43mapi_path\u001b[49m\u001b[43m,\u001b[49m\n\u001b[1;32m   1912\u001b[0m \u001b[43m    \u001b[49m\u001b[38;5;28;43;01mNone\u001b[39;49;00m\u001b[43m,\u001b[49m\n\u001b[1;32m   1913\u001b[0m \u001b[43m    \u001b[49m\u001b[43mquery_params\u001b[49m\u001b[38;5;241;43m=\u001b[39;49m\u001b[43mquery_params\u001b[49m\u001b[43m,\u001b[49m\n\u001b[1;32m   1914\u001b[0m \u001b[43m    \u001b[49m\u001b[43mtimeout\u001b[49m\u001b[38;5;241;43m=\u001b[39;49m\u001b[43mtimeout\u001b[49m\u001b[43m,\u001b[49m\n\u001b[1;32m   1915\u001b[0m \u001b[43m    \u001b[49m\u001b[43mretry\u001b[49m\u001b[38;5;241;43m=\u001b[39;49m\u001b[43mretry\u001b[49m\u001b[43m,\u001b[49m\n\u001b[1;32m   1916\u001b[0m \u001b[43m    \u001b[49m\u001b[43m_target_object\u001b[49m\u001b[38;5;241;43m=\u001b[39;49m\u001b[43mnew_blob\u001b[49m\u001b[43m,\u001b[49m\n\u001b[1;32m   1917\u001b[0m \u001b[43m\u001b[49m\u001b[43m)\u001b[49m\n\u001b[1;32m   1919\u001b[0m \u001b[38;5;28;01mif\u001b[39;00m \u001b[38;5;129;01mnot\u001b[39;00m preserve_acl:\n\u001b[1;32m   1920\u001b[0m     new_blob\u001b[38;5;241m.\u001b[39macl\u001b[38;5;241m.\u001b[39msave(acl\u001b[38;5;241m=\u001b[39m{}, client\u001b[38;5;241m=\u001b[39mclient, timeout\u001b[38;5;241m=\u001b[39mtimeout)\n",
      "File \u001b[0;32m/opt/conda/envs/py-gcs/lib/python3.12/site-packages/google/cloud/storage/client.py:627\u001b[0m, in \u001b[0;36mClient._post_resource\u001b[0;34m(self, path, data, query_params, headers, timeout, retry, _target_object)\u001b[0m\n\u001b[1;32m    566\u001b[0m \u001b[38;5;28;01mdef\u001b[39;00m \u001b[38;5;21m_post_resource\u001b[39m(\n\u001b[1;32m    567\u001b[0m     \u001b[38;5;28mself\u001b[39m,\n\u001b[1;32m    568\u001b[0m     path,\n\u001b[0;32m   (...)\u001b[0m\n\u001b[1;32m    574\u001b[0m     _target_object\u001b[38;5;241m=\u001b[39m\u001b[38;5;28;01mNone\u001b[39;00m,\n\u001b[1;32m    575\u001b[0m ):\n\u001b[1;32m    576\u001b[0m \u001b[38;5;250m    \u001b[39m\u001b[38;5;124;03m\"\"\"Helper for bucket / blob methods making API 'POST' calls.\u001b[39;00m\n\u001b[1;32m    577\u001b[0m \n\u001b[1;32m    578\u001b[0m \u001b[38;5;124;03m    Args:\u001b[39;00m\n\u001b[0;32m   (...)\u001b[0m\n\u001b[1;32m    624\u001b[0m \u001b[38;5;124;03m            If the bucket is not found.\u001b[39;00m\n\u001b[1;32m    625\u001b[0m \u001b[38;5;124;03m    \"\"\"\u001b[39;00m\n\u001b[0;32m--> 627\u001b[0m     \u001b[38;5;28;01mreturn\u001b[39;00m \u001b[38;5;28;43mself\u001b[39;49m\u001b[38;5;241;43m.\u001b[39;49m\u001b[43m_connection\u001b[49m\u001b[38;5;241;43m.\u001b[39;49m\u001b[43mapi_request\u001b[49m\u001b[43m(\u001b[49m\n\u001b[1;32m    628\u001b[0m \u001b[43m        \u001b[49m\u001b[43mmethod\u001b[49m\u001b[38;5;241;43m=\u001b[39;49m\u001b[38;5;124;43m\"\u001b[39;49m\u001b[38;5;124;43mPOST\u001b[39;49m\u001b[38;5;124;43m\"\u001b[39;49m\u001b[43m,\u001b[49m\n\u001b[1;32m    629\u001b[0m \u001b[43m        \u001b[49m\u001b[43mpath\u001b[49m\u001b[38;5;241;43m=\u001b[39;49m\u001b[43mpath\u001b[49m\u001b[43m,\u001b[49m\n\u001b[1;32m    630\u001b[0m \u001b[43m        \u001b[49m\u001b[43mdata\u001b[49m\u001b[38;5;241;43m=\u001b[39;49m\u001b[43mdata\u001b[49m\u001b[43m,\u001b[49m\n\u001b[1;32m    631\u001b[0m \u001b[43m        \u001b[49m\u001b[43mquery_params\u001b[49m\u001b[38;5;241;43m=\u001b[39;49m\u001b[43mquery_params\u001b[49m\u001b[43m,\u001b[49m\n\u001b[1;32m    632\u001b[0m \u001b[43m        \u001b[49m\u001b[43mheaders\u001b[49m\u001b[38;5;241;43m=\u001b[39;49m\u001b[43mheaders\u001b[49m\u001b[43m,\u001b[49m\n\u001b[1;32m    633\u001b[0m \u001b[43m        \u001b[49m\u001b[43mtimeout\u001b[49m\u001b[38;5;241;43m=\u001b[39;49m\u001b[43mtimeout\u001b[49m\u001b[43m,\u001b[49m\n\u001b[1;32m    634\u001b[0m \u001b[43m        \u001b[49m\u001b[43mretry\u001b[49m\u001b[38;5;241;43m=\u001b[39;49m\u001b[43mretry\u001b[49m\u001b[43m,\u001b[49m\n\u001b[1;32m    635\u001b[0m \u001b[43m        \u001b[49m\u001b[43m_target_object\u001b[49m\u001b[38;5;241;43m=\u001b[39;49m\u001b[43m_target_object\u001b[49m\u001b[43m,\u001b[49m\n\u001b[1;32m    636\u001b[0m \u001b[43m    \u001b[49m\u001b[43m)\u001b[49m\n",
      "File \u001b[0;32m/opt/conda/envs/py-gcs/lib/python3.12/site-packages/google/cloud/storage/_http.py:72\u001b[0m, in \u001b[0;36mConnection.api_request\u001b[0;34m(self, *args, **kwargs)\u001b[0m\n\u001b[1;32m     70\u001b[0m     \u001b[38;5;28;01mif\u001b[39;00m retry:\n\u001b[1;32m     71\u001b[0m         call \u001b[38;5;241m=\u001b[39m retry(call)\n\u001b[0;32m---> 72\u001b[0m \u001b[38;5;28;01mreturn\u001b[39;00m \u001b[43mcall\u001b[49m\u001b[43m(\u001b[49m\u001b[43m)\u001b[49m\n",
      "File \u001b[0;32m/opt/conda/envs/py-gcs/lib/python3.12/site-packages/google/cloud/_http/__init__.py:494\u001b[0m, in \u001b[0;36mJSONConnection.api_request\u001b[0;34m(self, method, path, query_params, data, content_type, headers, api_base_url, api_version, expect_json, _target_object, timeout, extra_api_info)\u001b[0m\n\u001b[1;32m    482\u001b[0m response \u001b[38;5;241m=\u001b[39m \u001b[38;5;28mself\u001b[39m\u001b[38;5;241m.\u001b[39m_make_request(\n\u001b[1;32m    483\u001b[0m     method\u001b[38;5;241m=\u001b[39mmethod,\n\u001b[1;32m    484\u001b[0m     url\u001b[38;5;241m=\u001b[39murl,\n\u001b[0;32m   (...)\u001b[0m\n\u001b[1;32m    490\u001b[0m     extra_api_info\u001b[38;5;241m=\u001b[39mextra_api_info,\n\u001b[1;32m    491\u001b[0m )\n\u001b[1;32m    493\u001b[0m \u001b[38;5;28;01mif\u001b[39;00m \u001b[38;5;129;01mnot\u001b[39;00m \u001b[38;5;241m200\u001b[39m \u001b[38;5;241m<\u001b[39m\u001b[38;5;241m=\u001b[39m response\u001b[38;5;241m.\u001b[39mstatus_code \u001b[38;5;241m<\u001b[39m \u001b[38;5;241m300\u001b[39m:\n\u001b[0;32m--> 494\u001b[0m     \u001b[38;5;28;01mraise\u001b[39;00m exceptions\u001b[38;5;241m.\u001b[39mfrom_http_response(response)\n\u001b[1;32m    496\u001b[0m \u001b[38;5;28;01mif\u001b[39;00m expect_json \u001b[38;5;129;01mand\u001b[39;00m response\u001b[38;5;241m.\u001b[39mcontent:\n\u001b[1;32m    497\u001b[0m     \u001b[38;5;28;01mreturn\u001b[39;00m response\u001b[38;5;241m.\u001b[39mjson()\n",
      "\u001b[0;31mServiceUnavailable\u001b[0m: 503 POST https://storage.googleapis.com/storage/v1/b/amlr-imagery-proc-dev/o/gliders%2F2022%2Famlr07-20221204%2Fshadowgraph%2Fimages%2FDir0075%2Fregions%2Fsg004%2020221206-184619-017.jpg-out20.jpg/copyTo/b/amlr-gliders-imagery-proc-dev/o/FREEBYRD%2F2023%2Famlr07-20221204%2Fregions%2FDir0075%2Fsg004%2020221206-184619-017.jpg-out20.jpg?prettyPrint=false: We encountered an internal error. Please try again."
     ]
    }
   ],
   "source": [
    "%time\n",
    "for i in file_list:\n",
    "    i_orig = i\n",
    "    i = i.replace(\"gliders/2022\", \"FREEBYRD/2023\")\n",
    "    i = i.replace(\"/shadowgraph/\", \"/\")\n",
    "    i = i.replace(\"/regions/\", \"/\")\n",
    "    i = i.replace(\"/images/\", \"/regions/\")\n",
    "    # print(f\"Copying {bucket_name}/{i_orig} to {bucket_name_new}/{i}\")\n",
    "    copy_blob(storage_client, bucket_name, i_orig, bucket_name_new, i)"
   ]
  },
  {
   "cell_type": "code",
   "execution_count": null,
   "id": "a43f7985-b4da-4aba-a8ac-0e16adb64c69",
   "metadata": {
    "tags": []
   },
   "outputs": [],
   "source": [
    "2 + 2"
   ]
  }
 ],
 "metadata": {
  "environment": {
   "kernel": "conda-env-py-gcs-py-gcs",
   "name": "workbench-notebooks.m118",
   "type": "gcloud",
   "uri": "us-docker.pkg.dev/deeplearning-platform-release/gcr.io/workbench-notebooks:m118"
  },
  "kernelspec": {
   "display_name": "py-gcs (Local)",
   "language": "python",
   "name": "conda-env-py-gcs-py-gcs"
  },
  "language_info": {
   "codemirror_mode": {
    "name": "ipython",
    "version": 3
   },
   "file_extension": ".py",
   "mimetype": "text/x-python",
   "name": "python",
   "nbconvert_exporter": "python",
   "pygments_lexer": "ipython3",
   "version": "3.12.2"
  }
 },
 "nbformat": 4,
 "nbformat_minor": 5
}
