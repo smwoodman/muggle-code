{
 "cells": [
  {
   "cell_type": "markdown",
   "id": "db53c055-66e2-46d3-9a53-1cd50436a1f5",
   "metadata": {},
   "source": [
    "# Rename files in GCS"
   ]
  },
  {
   "cell_type": "markdown",
   "id": "5c32cd3a-2703-4d59-8679-86699d37f08e",
   "metadata": {},
   "source": [
    "Rename files in GCS buckets by copying and deleting the blobs"
   ]
  },
  {
   "cell_type": "markdown",
   "id": "c4c8ac6f-8fb3-4920-aa81-e126829f7422",
   "metadata": {},
   "source": [
    "Import modules, inlcuding 'sourcing' py file with functions"
   ]
  },
  {
   "cell_type": "code",
   "execution_count": 1,
   "id": "64d86634-a714-493d-ae8c-b66e0c1725b5",
   "metadata": {
    "tags": []
   },
   "outputs": [],
   "source": [
    "from google.cloud import storage\n",
    "import pandas as pd\n",
    "\n",
    "%run -m file_move"
   ]
  },
  {
   "cell_type": "markdown",
   "id": "d83365d3-2538-44fb-aa35-decfc1a2c920",
   "metadata": {},
   "source": [
    "Set variable names, and generate list of files to rename"
   ]
  },
  {
   "cell_type": "code",
   "execution_count": 2,
   "id": "3174b6b9-b336-4d38-86f2-97f407b538e9",
   "metadata": {
    "tags": []
   },
   "outputs": [],
   "source": [
    "storage_client = storage.Client(project = \"ggn-nmfs-usamlr-dev-7b99\")\n",
    "bucket_name    = \"amlr-imagery-proc-dev\"\n",
    "file_prefix    = \"gliders/2022/amlr07-20221204/shadowgraph/images/Dir\"\n",
    "file_substr    = \"/regions/\"\n",
    "\n",
    "bucket_name_new = \"amlr-gliders-imagery-proc-dev\""
   ]
  },
  {
   "cell_type": "code",
   "execution_count": 4,
   "id": "723af22e-e4ab-4064-bde7-51cff4c8d75e",
   "metadata": {
    "tags": []
   },
   "outputs": [],
   "source": [
    "file_list_orig = list_blobs_with_prefix(bucket_name, file_prefix, file_substr=file_substr)    "
   ]
  },
  {
   "cell_type": "code",
   "execution_count": 5,
   "id": "1894f196-c60b-4268-8bdf-361ab1167d7c",
   "metadata": {
    "tags": []
   },
   "outputs": [
    {
     "name": "stdout",
     "output_type": "stream",
     "text": [
      "there are 1406579 files with /regions/ with the prefix amlr-imagery-proc-dev/gliders/2022/amlr07-20221204/shadowgraph/images/Dir\n",
      "files:\n",
      "gliders/2022/amlr07-20221204/shadowgraph/images/Dir0000/regions/\n",
      "gliders/2022/amlr07-20221204/shadowgraph/images/Dir0000/regions/sg004 20221204-220611-001.jpg-out0.jpg\n",
      "gliders/2022/amlr07-20221204/shadowgraph/images/Dir0000/regions/sg004 20221204-220611-001.jpg-out1.jpg\n",
      "gliders/2022/amlr07-20221204/shadowgraph/images/Dir0000/regions/sg004 20221204-220611-001.jpg-out10.jpg\n",
      "gliders/2022/amlr07-20221204/shadowgraph/images/Dir0000/regions/sg004 20221204-220611-001.jpg-out11.jpg\n",
      "gliders/2022/amlr07-20221204/shadowgraph/images/Dir0000/regions/sg004 20221204-220611-001.jpg-out12.jpg\n",
      "gliders/2022/amlr07-20221204/shadowgraph/images/Dir0000/regions/sg004 20221204-220611-001.jpg-out13.jpg\n",
      "gliders/2022/amlr07-20221204/shadowgraph/images/Dir0000/regions/sg004 20221204-220611-001.jpg-out14.jpg\n",
      "gliders/2022/amlr07-20221204/shadowgraph/images/Dir0000/regions/sg004 20221204-220611-001.jpg-out15.jpg\n"
     ]
    }
   ],
   "source": [
    "print(f\"there are {len(file_list_orig)} files with {file_substr} \" +\n",
    "      f\"with the prefix {bucket_name}/{file_prefix}\")\n",
    "print(\"files:\") \n",
    "for i in file_list_orig[0:9]:\n",
    "    print(i)"
   ]
  },
  {
   "cell_type": "code",
   "execution_count": null,
   "id": "700fc3d7-0d9e-47d3-a167-c3045c0262f9",
   "metadata": {
    "tags": []
   },
   "outputs": [],
   "source": [
    "# lengths_list = (lambda x:[len(i) for i in x])(file_list_orig)\n",
    "# pd.Series(lengths_list).value_counts()"
   ]
  },
  {
   "cell_type": "markdown",
   "id": "ca098c3c-e59c-45f9-8ec7-48682ab711fd",
   "metadata": {},
   "source": [
    "Create new file list"
   ]
  },
  {
   "cell_type": "code",
   "execution_count": 6,
   "id": "19386faf-0d40-405d-bbbf-e73a6338d01c",
   "metadata": {
    "tags": []
   },
   "outputs": [
    {
     "name": "stdout",
     "output_type": "stream",
     "text": [
      "There were 313 files removed, from original 1406579. \n",
      "There are 1406266 files remaining\n"
     ]
    }
   ],
   "source": [
    "file_list = [i for i in file_list_orig if len(i) > 70]\n",
    "print(f\"There were {len(file_list_orig) - len(file_list)} files removed, from original {len(file_list_orig)}. \")\n",
    "print(f\"There are {len(file_list)} files remaining\")"
   ]
  },
  {
   "cell_type": "code",
   "execution_count": null,
   "id": "b2fae3f0-2de1-4a67-a28a-9f4413684dfb",
   "metadata": {
    "tags": []
   },
   "outputs": [],
   "source": [
    "# # Testing\n",
    "# for i in file_list[0:3]:\n",
    "#     i = i.replace(\"gliders/2022\", \"FREEBYRD/2023\")\n",
    "#     i = i.replace(\"/shadowgraph/\", \"/\")\n",
    "#     i = i.replace(\"/regions/\", \"/\")\n",
    "#     i = i.replace(\"/images/\", \"/regions/\")\n",
    "#     print(i)"
   ]
  },
  {
   "cell_type": "code",
   "execution_count": null,
   "id": "ff6acbf3-c5e5-4d02-ac7a-91036d315cfa",
   "metadata": {},
   "outputs": [],
   "source": [
    "# file_list_new = []\n",
    "# for i in file_list[0:3]:\n",
    "#     i = i.replace(\"gliders/2022\", \"FREEBYRD/2023\")\n",
    "#     i = i.replace(\"/shadowgraph/\", \"/\")\n",
    "#     i = i.replace(\"/regions/\", \"/\")\n",
    "#     i = i.replace(\"/images/\", \"/regions/\")\n",
    "#     file_list_new.append(\n",
    "#         (bucket_name, file_old, file_old.replace(\"/images/\", f\"/images{file_substr}/\").replace(\"/output/\", \"/\"))\n",
    "#     )"
   ]
  },
  {
   "cell_type": "markdown",
   "id": "ca0c6fbc-63ac-4dcf-a81a-173e3e0c3359",
   "metadata": {},
   "source": [
    "## Copy files to new bucket"
   ]
  },
  {
   "cell_type": "code",
   "execution_count": null,
   "id": "dfcb420b-61c3-43a9-9873-bde9962b7027",
   "metadata": {
    "tags": []
   },
   "outputs": [],
   "source": [
    "%time\n",
    "for i in file_list:\n",
    "    i_orig = i\n",
    "    i = i.replace(\"gliders/2022\", \"FREEBYRD/2023\")\n",
    "    i = i.replace(\"/shadowgraph/\", \"/\")\n",
    "    i = i.replace(\"/regions/\", \"/\")\n",
    "    i = i.replace(\"/images/\", \"/regions/\")\n",
    "    # print(f\"Copying {bucket_name}/{i_orig} to {bucket_name_new}/{i}\")\n",
    "    copy_blob(storage_client, bucket_name, i_orig, bucket_name_new, i)"
   ]
  },
  {
   "cell_type": "code",
   "execution_count": null,
   "id": "a43f7985-b4da-4aba-a8ac-0e16adb64c69",
   "metadata": {
    "tags": []
   },
   "outputs": [],
   "source": [
    "2 + 2"
   ]
  }
 ],
 "metadata": {
  "environment": {
   "kernel": "conda-env-py-gcs-py-gcs",
   "name": "workbench-notebooks.m119",
   "type": "gcloud",
   "uri": "us-docker.pkg.dev/deeplearning-platform-release/gcr.io/workbench-notebooks:m119"
  },
  "kernelspec": {
   "display_name": "py-gcs (Local)",
   "language": "python",
   "name": "conda-env-py-gcs-py-gcs"
  },
  "language_info": {
   "codemirror_mode": {
    "name": "ipython",
    "version": 3
   },
   "file_extension": ".py",
   "mimetype": "text/x-python",
   "name": "python",
   "nbconvert_exporter": "python",
   "pygments_lexer": "ipython3",
   "version": "3.12.2"
  }
 },
 "nbformat": 4,
 "nbformat_minor": 5
}
