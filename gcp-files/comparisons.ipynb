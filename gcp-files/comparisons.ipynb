{
 "cells": [
  {
   "cell_type": "markdown",
   "id": "62b77ed2-664f-4c77-9e40-40ae423e5980",
   "metadata": {},
   "source": [
    "# Comparisons\n",
    "\n",
    "Sanity checks to make sure that files were properly copied from amlr-imagery-proc-dev to amlr-gliders-imagery-proc-dev"
   ]
  },
  {
   "cell_type": "code",
   "execution_count": null,
   "id": "88efc6c0-b2b1-4f45-b56c-5b385e894f76",
   "metadata": {
    "tags": []
   },
   "outputs": [],
   "source": [
    "from filemgmt.utils import create_pre, replace_path\n",
    "from filemgmt.gcs import list_blobs_with_prefix\n",
    "\n",
    "from google.cloud import storage"
   ]
  },
  {
   "cell_type": "markdown",
   "id": "7c69b649-ee87-4731-bf5a-06c5aafa217f",
   "metadata": {},
   "source": [
    "## Set variable names\n",
    "User tasks: update variable names as necessary in this block."
   ]
  },
  {
   "cell_type": "code",
   "execution_count": null,
   "id": "5ed42b58-670d-49dd-b466-a149d901e05e",
   "metadata": {
    "tags": []
   },
   "outputs": [],
   "source": [
    "storage_client = storage.Client(project = \"ggn-nmfs-usamlr-dev-7b99\")\n",
    "source_bucket_name      = \"amlr-imagery-proc-dev\"\n",
    "destination_bucket_name = \"amlr-gliders-imagery-proc-dev\"\n",
    "\n",
    "# glider_deployment = \"ringo-20240312\"\n",
    "glider_deployment = \"amlr07-20221204\"\n",
    "\n",
    "# file_substr    = \"/regions\" #Note: off by one errors may be due to annotations file\n",
    "# file_substr    = \"-ffPCG\"\n",
    "# file_substr    = \"-imgff\"\n",
    "file_substr    = \"orig-regions\"\n",
    "\n",
    "dir_range = range(0, 10) \n",
    "def dir_paste(y):\n",
    "    return f\"Dir0{y:02}\""
   ]
  },
  {
   "cell_type": "markdown",
   "id": "0a6a0afe-8b19-4684-9b11-80522cdd44c6",
   "metadata": {},
   "source": [
    "Code to run; all depends on user inputs above"
   ]
  },
  {
   "cell_type": "code",
   "execution_count": null,
   "id": "057e8548-ce24-4390-bd8c-89a54db69da5",
   "metadata": {
    "tags": []
   },
   "outputs": [],
   "source": [
    "source_bucket = storage_client.bucket(source_bucket_name)\n",
    "destination_bucket = storage_client.bucket(destination_bucket_name)\n",
    "\n",
    "pre_source, pre_dest = create_pre(glider_deployment)\n",
    "source_prefix = f\"{pre_source}/{glider_deployment}/shadowgraph/images/\"\n",
    "destination_prefix = replace_path(source_prefix, file_substr, pre_source, pre_dest)\n",
    "\n",
    "print(source_prefix)\n",
    "print(destination_prefix)\n",
    "\n",
    "source_file_prefix_list = [f\"{source_prefix}{dir_paste(i)}\" for i in dir_range]\n",
    "destination_file_prefix_list = [f\"{destination_prefix}{dir_paste(i)}\" for i in dir_range]\n",
    "\n",
    "print(\"---\")\n",
    "print(source_file_prefix_list)\n",
    "print(\"---\")\n",
    "print(destination_file_prefix_list)"
   ]
  },
  {
   "cell_type": "code",
   "execution_count": null,
   "id": "dfe56856-954c-4936-a647-fb13a71b3a5f",
   "metadata": {
    "tags": []
   },
   "outputs": [],
   "source": [
    "len_list = []\n",
    "for file_prefix in source_file_prefix_list:    \n",
    "    print(\"------------------------------------------------------\")\n",
    "    print(f\"{source_bucket_name}; {file_prefix}\")\n",
    "    \n",
    "    file_list_source = list_blobs_with_prefix(\n",
    "        source_bucket_name, file_prefix, file_substr=file_substr)   \n",
    "    \n",
    "    print(len(file_list_source))\n",
    "    len_list.append(len(file_list_source))"
   ]
  },
  {
   "cell_type": "code",
   "execution_count": null,
   "id": "91c839e6-76e9-4434-ab31-e65193dbc301",
   "metadata": {
    "tags": []
   },
   "outputs": [],
   "source": [
    "destination_len_list = []\n",
    "for file_prefix in destination_file_prefix_list:    \n",
    "    print(\"------------------------------------------------------\")\n",
    "    print(f\"{destination_bucket_name}; {file_prefix}\")\n",
    "    \n",
    "    destination_file_list = list_blobs_with_prefix(\n",
    "        destination_bucket_name, file_prefix, file_substr=file_substr)  \n",
    "    \n",
    "    print(len(destination_file_list))\n",
    "    destination_len_list.append(len(destination_len_list))"
   ]
  }
 ],
 "metadata": {
  "environment": {
   "kernel": "conda-env-muggle-gcp-files-muggle-gcp-files",
   "name": "workbench-notebooks.m120",
   "type": "gcloud",
   "uri": "us-docker.pkg.dev/deeplearning-platform-release/gcr.io/workbench-notebooks:m120"
  },
  "kernelspec": {
   "display_name": "muggle-gcp-files (Local)",
   "language": "python",
   "name": "conda-env-muggle-gcp-files-muggle-gcp-files"
  },
  "language_info": {
   "codemirror_mode": {
    "name": "ipython",
    "version": 3
   },
   "file_extension": ".py",
   "mimetype": "text/x-python",
   "name": "python",
   "nbconvert_exporter": "python",
   "pygments_lexer": "ipython3",
   "version": "3.10.14"
  }
 },
 "nbformat": 4,
 "nbformat_minor": 5
}
