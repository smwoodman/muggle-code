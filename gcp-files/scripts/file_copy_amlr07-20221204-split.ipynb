{
 "cells": [
  {
   "cell_type": "markdown",
   "id": "db53c055-66e2-46d3-9a53-1cd50436a1f5",
   "metadata": {
    "tags": []
   },
   "source": [
    "# Move amlr07-20221204 GCS files"
   ]
  },
  {
   "cell_type": "markdown",
   "id": "5c32cd3a-2703-4d59-8679-86699d37f08e",
   "metadata": {},
   "source": [
    "The code for processiong amlr07-20221204 shadowgraph images (Cutter's code, adapted from Ohman et al methods) wrote out processed images into a single directory. The purpose of this notebook is to copy these files to their own folders, to be imported into VIAME-Web-AMLR.\n",
    "\n",
    "Image types: \n",
    "- -ffPCG.png images: Flatfielded images, with Pixel Gamma Correction\n",
    "- -imgff.png images: Flatfielded images\n",
    "- .jpgorig-regions.jpg: Original jpg images, with red region bounding boxes pasted onto them\n",
    "\n",
    "Note that both versions of flatfielded images have had other processing steps applied, such as masking."
   ]
  },
  {
   "cell_type": "markdown",
   "id": "c4c8ac6f-8fb3-4920-aa81-e126829f7422",
   "metadata": {},
   "source": [
    "Import modules, inlcuding 'sourcing' py file with functions"
   ]
  },
  {
   "cell_type": "code",
   "execution_count": 1,
   "id": "64d86634-a714-493d-ae8c-b66e0c1725b5",
   "metadata": {
    "tags": []
   },
   "outputs": [],
   "source": [
    "from google.cloud import storage\n",
    "from itertools import repeat\n",
    "import subprocess\n",
    "import pandas as pd\n",
    "import multiprocessing as mp\n",
    "\n",
    "%run -m file_move"
   ]
  },
  {
   "cell_type": "markdown",
   "id": "ef086f24-9dff-4393-b65c-e091f798a3d0",
   "metadata": {},
   "source": [
    "## Variables and Prep"
   ]
  },
  {
   "cell_type": "markdown",
   "id": "d83365d3-2538-44fb-aa35-decfc1a2c920",
   "metadata": {},
   "source": [
    "Set variable names, and generate list of files to rename"
   ]
  },
  {
   "cell_type": "code",
   "execution_count": 2,
   "id": "3174b6b9-b336-4d38-86f2-97f407b538e9",
   "metadata": {
    "tags": []
   },
   "outputs": [],
   "source": [
    "storage_client = storage.Client(project = \"ggn-nmfs-usamlr-dev-7b99\")\n",
    "source_bucket_name    = \"amlr-imagery-proc-dev\"\n",
    "file_prefix    = \"gliders/2022/amlr07-20221204/shadowgraph/images/Dir011\"\n",
    "\n",
    "# file_substr    = \"-ffPCG\"\n",
    "file_substr    = \"-imgff\"\n",
    "# file_substr    = \".jpgorig-regions\"\n",
    "\n",
    "destination_bucket_name = \"amlr-gliders-imagery-proc-dev\""
   ]
  },
  {
   "cell_type": "code",
   "execution_count": 3,
   "id": "723af22e-e4ab-4064-bde7-51cff4c8d75e",
   "metadata": {
    "tags": []
   },
   "outputs": [],
   "source": [
    "file_list_orig = list_blobs_with_prefix(\n",
    "    source_bucket_name, file_prefix, file_substr=file_substr)    "
   ]
  },
  {
   "cell_type": "code",
   "execution_count": 4,
   "id": "1894f196-c60b-4268-8bdf-361ab1167d7c",
   "metadata": {
    "tags": []
   },
   "outputs": [
    {
     "name": "stdout",
     "output_type": "stream",
     "text": [
      "there are 7715 files with -imgff with the prefix amlr-imagery-proc-dev/gliders/2022/amlr07-20221204/shadowgraph/images/Dir010\n",
      "First 10 files:\n",
      "gliders/2022/amlr07-20221204/shadowgraph/images/Dir0100/output/amlr07 20221208-151532-001-imgff.png\n",
      "gliders/2022/amlr07-20221204/shadowgraph/images/Dir0100/output/amlr07 20221208-151538-002-imgff.png\n",
      "gliders/2022/amlr07-20221204/shadowgraph/images/Dir0100/output/amlr07 20221208-151544-003-imgff.png\n",
      "gliders/2022/amlr07-20221204/shadowgraph/images/Dir0100/output/amlr07 20221208-151550-004-imgff.png\n",
      "gliders/2022/amlr07-20221204/shadowgraph/images/Dir0100/output/amlr07 20221208-151556-005-imgff.png\n",
      "gliders/2022/amlr07-20221204/shadowgraph/images/Dir0100/output/amlr07 20221208-151602-006-imgff.png\n",
      "gliders/2022/amlr07-20221204/shadowgraph/images/Dir0100/output/amlr07 20221208-151608-007-imgff.png\n",
      "gliders/2022/amlr07-20221204/shadowgraph/images/Dir0100/output/amlr07 20221208-151614-008-imgff.png\n",
      "gliders/2022/amlr07-20221204/shadowgraph/images/Dir0100/output/amlr07 20221208-151620-009-imgff.png\n"
     ]
    }
   ],
   "source": [
    "print(f\"there are {len(file_list_orig)} files with {file_substr} \" +\n",
    "      f\"with the prefix {source_bucket_name}/{file_prefix}\")\n",
    "print(\"First 10 files:\") \n",
    "for i in file_list_orig[0:9]:\n",
    "    print(i)\n",
    "    \n",
    "# # Summarize by string length, if desired\n",
    "# lengths_list = (lambda x:[len(i) for i in x])(file_list_orig)\n",
    "# pd.Series(lengths_list).value_counts()"
   ]
  },
  {
   "cell_type": "markdown",
   "id": "ca098c3c-e59c-45f9-8ec7-48682ab711fd",
   "metadata": {},
   "source": [
    "Create new file list"
   ]
  },
  {
   "cell_type": "code",
   "execution_count": 5,
   "id": "19386faf-0d40-405d-bbbf-e73a6338d01c",
   "metadata": {
    "tags": []
   },
   "outputs": [],
   "source": [
    "file_list_destination = []\n",
    "for i in file_list_orig:\n",
    "    i_orig = i\n",
    "    i = i.replace(\"gliders/2022\", \"FREEBYRD/2023\")\n",
    "    i = i.replace(\"/shadowgraph/images\", f\"/images{file_substr}\")\n",
    "    i = i.replace(\"/output\", \"\")\n",
    "    file_list_destination.append(i)"
   ]
  },
  {
   "cell_type": "code",
   "execution_count": 6,
   "id": "2797d118-e2f0-46f4-abcf-e5d49d723995",
   "metadata": {
    "tags": []
   },
   "outputs": [
    {
     "name": "stdout",
     "output_type": "stream",
     "text": [
      "FREEBYRD/2023/amlr07-20221204/images-imgff/Dir0104/amlr07 20221209-002808-013-imgff.png\n",
      "FREEBYRD/2023/amlr07-20221204/images-imgff/Dir0104/amlr07 20221209-005101-005-imgff.png\n",
      "FREEBYRD/2023/amlr07-20221204/images-imgff/Dir0106/amlr07 20221209-061925-023-imgff.png\n",
      "FREEBYRD/2023/amlr07-20221204/images-imgff/Dir0103/amlr07 20221208-211724-017-imgff.png\n",
      "FREEBYRD/2023/amlr07-20221204/images-imgff/Dir0102/amlr07 20221208-205632-019-imgff.png\n"
     ]
    }
   ],
   "source": [
    "from random import sample\n",
    "for i in sample(file_list_destination, 5):\n",
    "    print(i)"
   ]
  },
  {
   "cell_type": "markdown",
   "id": "f6c68edf-e194-4aff-8860-5d02aa3eb8f6",
   "metadata": {},
   "source": [
    "## Copy\n",
    "Copy the blobs, rather than rsyncing. Create the bucket object outside the functions to minimize the work that the functions need to do"
   ]
  },
  {
   "cell_type": "code",
   "execution_count": 7,
   "id": "797d5fa1-56d5-43b7-bf7f-41bc05fdbdec",
   "metadata": {
    "tags": []
   },
   "outputs": [],
   "source": [
    "source_bucket = storage_client.bucket(source_bucket_name)\n",
    "destination_bucket = storage_client.bucket(destination_bucket_name)"
   ]
  },
  {
   "cell_type": "markdown",
   "id": "299c3f1d-310f-42fc-8bdf-9947bdea091e",
   "metadata": {},
   "source": [
    "#### Testing cells"
   ]
  },
  {
   "cell_type": "code",
   "execution_count": 8,
   "id": "4675cb49-7327-4137-b22d-59876bf60a5c",
   "metadata": {
    "tags": []
   },
   "outputs": [],
   "source": [
    "# i = 1\n",
    "\n",
    "# # source_blob = source_bucket.blob(file_list_orig[i])\n",
    "# # blob_copy = source_bucket.copy_blob(\n",
    "# #     source_blob, destination_bucket, file_list_destination[i]\n",
    "# #     #if_generation_match=destination_generation_match_precondition,\n",
    "# # )\n",
    "\n",
    "# copy_blob_if_new(\n",
    "#     source_bucket, file_list_orig[i], \n",
    "#     destination_bucket, file_list_destination[i]\n",
    "# )\n"
   ]
  },
  {
   "cell_type": "markdown",
   "id": "24498f2e-bb55-4afd-9368-db4bdd459ad1",
   "metadata": {},
   "source": [
    "#### Run the full thing"
   ]
  },
  {
   "cell_type": "markdown",
   "id": "d266c951-757e-4e24-9b2e-082f53daa1a6",
   "metadata": {},
   "source": [
    "Run the full thing in parallel"
   ]
  },
  {
   "cell_type": "code",
   "execution_count": 9,
   "id": "fd1c053e-27fe-4cb6-b901-e7531b240a5e",
   "metadata": {
    "tags": []
   },
   "outputs": [
    {
     "name": "stdout",
     "output_type": "stream",
     "text": [
      "Running with 48 cores\n",
      "CPU times: user 120 ms, sys: 237 ms, total: 357 ms\n",
      "Wall time: 29 s\n"
     ]
    }
   ],
   "source": [
    "%%time\n",
    "numcores = mp.cpu_count()\n",
    "print(f\"Running with {numcores} cores\")\n",
    "\n",
    "with mp.Pool(numcores) as pool:\n",
    "    out_list = pool.starmap(\n",
    "        copy_blob_client, \n",
    "        zip(repeat(source_bucket_name), file_list_orig, \n",
    "            repeat(destination_bucket_name), file_list_destination)\n",
    "    )"
   ]
  },
  {
   "cell_type": "markdown",
   "id": "e5f1deb9-f4e3-4e5b-b35e-1425a11a815b",
   "metadata": {},
   "source": [
    "Run the full thing sequentially, so we can pass the client objects"
   ]
  },
  {
   "cell_type": "code",
   "execution_count": 10,
   "id": "d896bcfe-fbdd-4e60-8db4-59691d878814",
   "metadata": {
    "tags": []
   },
   "outputs": [],
   "source": [
    "# %%time\n",
    "# for (i, j) in zip(file_list_orig, file_list_destination):\n",
    "#     # if source_bucket.blob(i).exists():\n",
    "#     #     # print(f\"skipping {source_bucket.blob(i).name}\")\n",
    "#     # else:\n",
    "#     print(j)\n",
    "#     copy_blob(source_bucket, i, destination_bucket, j)"
   ]
  },
  {
   "cell_type": "markdown",
   "id": "8c3abb4b-257a-4393-9b47-2be3900bd62a",
   "metadata": {},
   "source": [
    "### Sanity checks"
   ]
  },
  {
   "cell_type": "code",
   "execution_count": 11,
   "id": "fd231f28-654b-44fe-80fa-013b8579031b",
   "metadata": {
    "tags": []
   },
   "outputs": [],
   "source": [
    "# prefix_dest = \"FREEBYRD/2023/amlr07-20221204/regions/Dir\"\n",
    "# file_list_dest = list_blobs_with_prefix(bucket_destination, prefix_dest)    \n",
    "# print(f\"there are {len(file_list_dest)} files \" +\n",
    "#       f\"with the prefix {bucket_destination}/{prefix_dest}\")\n",
    "\n",
    "# lengths_list = (lambda x:[len(i) for i in x])(file_list_dest)\n",
    "# pd.Series(lengths_list).value_counts()"
   ]
  }
 ],
 "metadata": {
  "environment": {
   "kernel": "conda-root-py",
   "name": "workbench-notebooks.m119",
   "type": "gcloud",
   "uri": "us-docker.pkg.dev/deeplearning-platform-release/gcr.io/workbench-notebooks:m119"
  },
  "kernelspec": {
   "display_name": "Python 3 (ipykernel) (Local)",
   "language": "python",
   "name": "conda-root-py"
  },
  "language_info": {
   "codemirror_mode": {
    "name": "ipython",
    "version": 3
   },
   "file_extension": ".py",
   "mimetype": "text/x-python",
   "name": "python",
   "nbconvert_exporter": "python",
   "pygments_lexer": "ipython3",
   "version": "3.10.14"
  }
 },
 "nbformat": 4,
 "nbformat_minor": 5
}
